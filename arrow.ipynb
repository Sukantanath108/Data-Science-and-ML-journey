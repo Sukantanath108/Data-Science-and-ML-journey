{
  "nbformat": 4,
  "nbformat_minor": 0,
  "metadata": {
    "colab": {
      "provenance": [],
      "authorship_tag": "ABX9TyPqFEacPwEpNhBgbKkhebma",
      "include_colab_link": true
    },
    "kernelspec": {
      "name": "python3",
      "display_name": "Python 3"
    },
    "language_info": {
      "name": "python"
    }
  },
  "cells": [
    {
      "cell_type": "markdown",
      "metadata": {
        "id": "view-in-github",
        "colab_type": "text"
      },
      "source": [
        "<a href=\"https://colab.research.google.com/github/Sukantanath108/Data-Science-and-ML-journey/blob/main/arrow.ipynb\" target=\"_parent\"><img src=\"https://colab.research.google.com/assets/colab-badge.svg\" alt=\"Open In Colab\"/></a>"
      ]
    },
    {
      "cell_type": "code",
      "execution_count": null,
      "metadata": {
        "colab": {
          "base_uri": "https://localhost:8080/"
        },
        "id": "gLF6zzSn_55_",
        "outputId": "6afefad8-1052-46dc-c295-51ee73bfa54d"
      },
      "outputs": [
        {
          "output_type": "stream",
          "name": "stdout",
          "text": [
            "Requirement already satisfied: opencv-python-headless in /usr/local/lib/python3.10/dist-packages (4.10.0.84)\n",
            "Requirement already satisfied: numpy>=1.21.2 in /usr/local/lib/python3.10/dist-packages (from opencv-python-headless) (1.26.4)\n"
          ]
        }
      ],
      "source": [
        "!pip install opencv-python-headless\n",
        "\n",
        "\n",
        "from google.colab.patches import cv2_imshow\n",
        "import cv2\n",
        "import numpy as np\n",
        "import math\n",
        "import time"
      ]
    },
    {
      "cell_type": "code",
      "source": [
        "# prompt: how to upload a image from my local computer\n",
        "\n",
        "from google.colab import files\n",
        "\n",
        "uploaded = files.upload()\n",
        "\n",
        "for fn in uploaded.keys():\n",
        "  print('User uploaded file \"{name}\" with length {length} bytes'.format(\n",
        "      name=fn, length=len(uploaded[fn])))\n"
      ],
      "metadata": {
        "colab": {
          "base_uri": "https://localhost:8080/",
          "height": 90
        },
        "id": "DfXWurFtDZ38",
        "outputId": "3a7f5f3f-3f89-4c21-cbbb-77b3e013fbcc"
      },
      "execution_count": null,
      "outputs": [
        {
          "output_type": "display_data",
          "data": {
            "text/plain": [
              "<IPython.core.display.HTML object>"
            ],
            "text/html": [
              "\n",
              "     <input type=\"file\" id=\"files-7fb6f5b3-d103-4856-aff5-a7601c49e669\" name=\"files[]\" multiple disabled\n",
              "        style=\"border:none\" />\n",
              "     <output id=\"result-7fb6f5b3-d103-4856-aff5-a7601c49e669\">\n",
              "      Upload widget is only available when the cell has been executed in the\n",
              "      current browser session. Please rerun this cell to enable.\n",
              "      </output>\n",
              "      <script>// Copyright 2017 Google LLC\n",
              "//\n",
              "// Licensed under the Apache License, Version 2.0 (the \"License\");\n",
              "// you may not use this file except in compliance with the License.\n",
              "// You may obtain a copy of the License at\n",
              "//\n",
              "//      http://www.apache.org/licenses/LICENSE-2.0\n",
              "//\n",
              "// Unless required by applicable law or agreed to in writing, software\n",
              "// distributed under the License is distributed on an \"AS IS\" BASIS,\n",
              "// WITHOUT WARRANTIES OR CONDITIONS OF ANY KIND, either express or implied.\n",
              "// See the License for the specific language governing permissions and\n",
              "// limitations under the License.\n",
              "\n",
              "/**\n",
              " * @fileoverview Helpers for google.colab Python module.\n",
              " */\n",
              "(function(scope) {\n",
              "function span(text, styleAttributes = {}) {\n",
              "  const element = document.createElement('span');\n",
              "  element.textContent = text;\n",
              "  for (const key of Object.keys(styleAttributes)) {\n",
              "    element.style[key] = styleAttributes[key];\n",
              "  }\n",
              "  return element;\n",
              "}\n",
              "\n",
              "// Max number of bytes which will be uploaded at a time.\n",
              "const MAX_PAYLOAD_SIZE = 100 * 1024;\n",
              "\n",
              "function _uploadFiles(inputId, outputId) {\n",
              "  const steps = uploadFilesStep(inputId, outputId);\n",
              "  const outputElement = document.getElementById(outputId);\n",
              "  // Cache steps on the outputElement to make it available for the next call\n",
              "  // to uploadFilesContinue from Python.\n",
              "  outputElement.steps = steps;\n",
              "\n",
              "  return _uploadFilesContinue(outputId);\n",
              "}\n",
              "\n",
              "// This is roughly an async generator (not supported in the browser yet),\n",
              "// where there are multiple asynchronous steps and the Python side is going\n",
              "// to poll for completion of each step.\n",
              "// This uses a Promise to block the python side on completion of each step,\n",
              "// then passes the result of the previous step as the input to the next step.\n",
              "function _uploadFilesContinue(outputId) {\n",
              "  const outputElement = document.getElementById(outputId);\n",
              "  const steps = outputElement.steps;\n",
              "\n",
              "  const next = steps.next(outputElement.lastPromiseValue);\n",
              "  return Promise.resolve(next.value.promise).then((value) => {\n",
              "    // Cache the last promise value to make it available to the next\n",
              "    // step of the generator.\n",
              "    outputElement.lastPromiseValue = value;\n",
              "    return next.value.response;\n",
              "  });\n",
              "}\n",
              "\n",
              "/**\n",
              " * Generator function which is called between each async step of the upload\n",
              " * process.\n",
              " * @param {string} inputId Element ID of the input file picker element.\n",
              " * @param {string} outputId Element ID of the output display.\n",
              " * @return {!Iterable<!Object>} Iterable of next steps.\n",
              " */\n",
              "function* uploadFilesStep(inputId, outputId) {\n",
              "  const inputElement = document.getElementById(inputId);\n",
              "  inputElement.disabled = false;\n",
              "\n",
              "  const outputElement = document.getElementById(outputId);\n",
              "  outputElement.innerHTML = '';\n",
              "\n",
              "  const pickedPromise = new Promise((resolve) => {\n",
              "    inputElement.addEventListener('change', (e) => {\n",
              "      resolve(e.target.files);\n",
              "    });\n",
              "  });\n",
              "\n",
              "  const cancel = document.createElement('button');\n",
              "  inputElement.parentElement.appendChild(cancel);\n",
              "  cancel.textContent = 'Cancel upload';\n",
              "  const cancelPromise = new Promise((resolve) => {\n",
              "    cancel.onclick = () => {\n",
              "      resolve(null);\n",
              "    };\n",
              "  });\n",
              "\n",
              "  // Wait for the user to pick the files.\n",
              "  const files = yield {\n",
              "    promise: Promise.race([pickedPromise, cancelPromise]),\n",
              "    response: {\n",
              "      action: 'starting',\n",
              "    }\n",
              "  };\n",
              "\n",
              "  cancel.remove();\n",
              "\n",
              "  // Disable the input element since further picks are not allowed.\n",
              "  inputElement.disabled = true;\n",
              "\n",
              "  if (!files) {\n",
              "    return {\n",
              "      response: {\n",
              "        action: 'complete',\n",
              "      }\n",
              "    };\n",
              "  }\n",
              "\n",
              "  for (const file of files) {\n",
              "    const li = document.createElement('li');\n",
              "    li.append(span(file.name, {fontWeight: 'bold'}));\n",
              "    li.append(span(\n",
              "        `(${file.type || 'n/a'}) - ${file.size} bytes, ` +\n",
              "        `last modified: ${\n",
              "            file.lastModifiedDate ? file.lastModifiedDate.toLocaleDateString() :\n",
              "                                    'n/a'} - `));\n",
              "    const percent = span('0% done');\n",
              "    li.appendChild(percent);\n",
              "\n",
              "    outputElement.appendChild(li);\n",
              "\n",
              "    const fileDataPromise = new Promise((resolve) => {\n",
              "      const reader = new FileReader();\n",
              "      reader.onload = (e) => {\n",
              "        resolve(e.target.result);\n",
              "      };\n",
              "      reader.readAsArrayBuffer(file);\n",
              "    });\n",
              "    // Wait for the data to be ready.\n",
              "    let fileData = yield {\n",
              "      promise: fileDataPromise,\n",
              "      response: {\n",
              "        action: 'continue',\n",
              "      }\n",
              "    };\n",
              "\n",
              "    // Use a chunked sending to avoid message size limits. See b/62115660.\n",
              "    let position = 0;\n",
              "    do {\n",
              "      const length = Math.min(fileData.byteLength - position, MAX_PAYLOAD_SIZE);\n",
              "      const chunk = new Uint8Array(fileData, position, length);\n",
              "      position += length;\n",
              "\n",
              "      const base64 = btoa(String.fromCharCode.apply(null, chunk));\n",
              "      yield {\n",
              "        response: {\n",
              "          action: 'append',\n",
              "          file: file.name,\n",
              "          data: base64,\n",
              "        },\n",
              "      };\n",
              "\n",
              "      let percentDone = fileData.byteLength === 0 ?\n",
              "          100 :\n",
              "          Math.round((position / fileData.byteLength) * 100);\n",
              "      percent.textContent = `${percentDone}% done`;\n",
              "\n",
              "    } while (position < fileData.byteLength);\n",
              "  }\n",
              "\n",
              "  // All done.\n",
              "  yield {\n",
              "    response: {\n",
              "      action: 'complete',\n",
              "    }\n",
              "  };\n",
              "}\n",
              "\n",
              "scope.google = scope.google || {};\n",
              "scope.google.colab = scope.google.colab || {};\n",
              "scope.google.colab._files = {\n",
              "  _uploadFiles,\n",
              "  _uploadFilesContinue,\n",
              "};\n",
              "})(self);\n",
              "</script> "
            ]
          },
          "metadata": {}
        },
        {
          "output_type": "stream",
          "name": "stdout",
          "text": [
            "Saving arrow.png to arrow (3).png\n",
            "User uploaded file \"arrow (3).png\" with length 9750 bytes\n"
          ]
        }
      ]
    },
    {
      "cell_type": "code",
      "source": [
        "import os\n",
        "file_path = os.path.join(os.getcwd(), 'arrow.png')  # Replace with your image filename\n",
        "print(file_path)  # Display the full path\n"
      ],
      "metadata": {
        "colab": {
          "base_uri": "https://localhost:8080/"
        },
        "id": "9xvOlF4wEwU2",
        "outputId": "ca2ed6df-cb0c-4246-eff9-97ea0477c948"
      },
      "execution_count": null,
      "outputs": [
        {
          "output_type": "stream",
          "name": "stdout",
          "text": [
            "/content/arrow.png\n"
          ]
        }
      ]
    },
    {
      "cell_type": "code",
      "source": [
        "def preprocess_image(image):\n",
        "    # Convert to grayscale\n",
        "    gray = cv2.cvtColor(image, cv2.COLOR_BGR2GRAY)\n",
        "\n",
        "    # Apply Gaussian blur to reduce noise\n",
        "    blurred = cv2.GaussianBlur(gray, (5, 5), 0)\n",
        "\n",
        "    # Threshold the image to isolate black arrows on white background\n",
        "    _, thresh = cv2.threshold(blurred, 60, 255, cv2.THRESH_BINARY_INV)\n",
        "\n",
        "    return thresh"
      ],
      "metadata": {
        "id": "yfuT5pUrAGFr"
      },
      "execution_count": null,
      "outputs": []
    },
    {
      "cell_type": "code",
      "source": [
        "def detect_arrow_contours(thresh_image):\n",
        "    # Find contours in the thresholded image\n",
        "    contours, _ = cv2.findContours(thresh_image, cv2.RETR_TREE, cv2.CHAIN_APPROX_SIMPLE)\n",
        "\n",
        "    arrow_contour = None\n",
        "    for contour in contours:\n",
        "        # Approximate the contour to simplify it\n",
        "        epsilon = 0.04 * cv2.arcLength(contour, True)\n",
        "        approx = cv2.approxPolyDP(contour, epsilon, True)\n",
        "\n",
        "        # We assume the arrow has more than 5 vertices (complex shape)\n",
        "        if len(approx) > 5:\n",
        "            arrow_contour = approx\n",
        "            break\n",
        "\n",
        "    return arrow_contour"
      ],
      "metadata": {
        "id": "_DoBoGSKAI2K"
      },
      "execution_count": null,
      "outputs": []
    },
    {
      "cell_type": "code",
      "source": [
        "def detect_arrow_direction(arrow_contour, image):\n",
        "    if arrow_contour is None:\n",
        "        return None, None\n",
        "\n",
        "    # Draw the contour on the image (for visualization)\n",
        "    cv2.drawContours(image, [arrow_contour], -1, (0, 255, 0), 2)\n",
        "\n",
        "    # Compute the moments of the contour to get the center\n",
        "    M = cv2.moments(arrow_contour)\n",
        "    if M['m00'] == 0:\n",
        "        return None, None\n",
        "    cx = int(M['m10'] / M['m00'])  # x coordinate of center\n",
        "    cy = int(M['m01'] / M['m00'])  # y coordinate of center\n",
        "\n",
        "    # Calculate bounding box of the arrow contour\n",
        "    rect = cv2.minAreaRect(arrow_contour)\n",
        "    box = cv2.boxPoints(rect)\n",
        "    box = np.int0(box)\n",
        "\n",
        "    # Arrow direction estimation based on bounding box orientation\n",
        "    angle = rect[2]  # Angle of the rectangle\n",
        "\n",
        "    # Determine the direction (N, E, S, W) based on the angle\n",
        "    if -45 <= angle <= 45:\n",
        "        direction = \"Right\"\n",
        "    elif 45 < angle <= 135:\n",
        "        direction = \"Down\"\n",
        "    elif -135 <= angle < -45:\n",
        "        direction = \"Up\"\n",
        "    else:\n",
        "        direction = \"Left\"\n",
        "\n",
        "    return (cx, cy), direction"
      ],
      "metadata": {
        "id": "4cXaeDeOALX0"
      },
      "execution_count": null,
      "outputs": []
    },
    {
      "cell_type": "code",
      "source": [
        "def process_arrow_image(image_path):\n",
        "    # Read the image\n",
        "    image = cv2.imread(image_path)\n",
        "\n",
        "    # Check if image loaded successfully\n",
        "    if image is None:\n",
        "        print(f\"Error: Could not load image at {image_path}.Check if the file exists and the path is correct.\")\n",
        "        return None\n",
        "        # Return None to indicate failure\n",
        "\n",
        "\n",
        "    # Preprocess the image (thresholding, blurring, etc.)\n",
        "    thresh_image = preprocess_image(image)\n",
        "\n",
        "    # Detect arrow contours\n",
        "    arrow_contour = detect_arrow_contours(thresh_image)\n",
        "\n",
        "    # Detect the arrow's direction\n",
        "    location, direction = detect_arrow_direction(arrow_contour, image)\n",
        "\n",
        "    # Show results\n",
        "    if location and direction:\n",
        "        print(f\"Arrow found at: {location}, Direction: {direction}\")\n",
        "    else:\n",
        "        print(\"No arrow detected.\")\n",
        "\n",
        "    # Display the result image\n",
        "    cv2_imshow(image)\n",
        "    cv2.waitKey(0)\n",
        "    cv2.destroyAllWindows()\n",
        "\n",
        "    return direction\n",
        "\n"
      ],
      "metadata": {
        "id": "N9K4509mAO3B"
      },
      "execution_count": null,
      "outputs": []
    },
    {
      "cell_type": "markdown",
      "source": [
        "GPS_BASED Navigation"
      ],
      "metadata": {
        "id": "4CCoBoNLATTr"
      }
    },
    {
      "cell_type": "code",
      "source": [
        "def get_current_gps_coordinates():\n",
        "    # This function should return the current GPS location of the rover as (latitude, longitude)\n",
        "    return (12.9715987, 77.594566)  # Dummy coordinates (Bangalore, India)\n"
      ],
      "metadata": {
        "id": "7DI1VmoxASsV"
      },
      "execution_count": null,
      "outputs": []
    },
    {
      "cell_type": "code",
      "source": [
        "def calculate_distance(coord1, coord2):\n",
        "    # Haversine formula to calculate distance between two GPS coordinates\n",
        "    R = 6371e3  # Earth radius in meters\n",
        "    lat1, lon1 = math.radians(coord1[0]), math.radians(coord1[1])\n",
        "    lat2, lon2 = math.radians(coord2[0]), math.radians(coord2[1])\n",
        "\n",
        "    dlat = lat2 - lat1\n",
        "    dlon = lon2 - lon1\n",
        "\n",
        "    a = math.sin(dlat / 2) ** 2 + math.cos(lat1) * math.cos(lat2) * math.sin(dlon / 2) ** 2\n",
        "    c = 2 * math.atan2(math.sqrt(a), math.sqrt(1 - a))\n",
        "\n",
        "    return R * c"
      ],
      "metadata": {
        "id": "iDeVYOMlAYg9"
      },
      "execution_count": null,
      "outputs": []
    },
    {
      "cell_type": "code",
      "source": [
        "def calculate_bearing(coord1, coord2):\n",
        "    # Calculate the bearing (direction) from current location to the next waypoint\n",
        "    lat1, lon1 = math.radians(coord1[0]), math.radians(coord1[1])\n",
        "    lat2, lon2 = math.radians(coord2[0]), math.radians(coord2[1])\n",
        "\n",
        "    dlon = lon2 - lon1\n",
        "\n",
        "    x = math.sin(dlon) * math.cos(lat2)\n",
        "    y = math.cos(lat1) * math.sin(lat2) - math.sin(lat1) * math.cos(lat2) * math.cos(dlon)\n",
        "\n",
        "    bearing = math.degrees(math.atan2(x, y))\n",
        "\n",
        "    return (bearing + 360) % 360  # Normalize bearing to [0, 360]"
      ],
      "metadata": {
        "id": "9GKS4BpxAeU7"
      },
      "execution_count": null,
      "outputs": []
    },
    {
      "cell_type": "code",
      "source": [
        "def move_rover_to_gps(coordinates):\n",
        "    target_gps = coordinates\n",
        "    tolerance = 2  # Tolerance in meters\n",
        "\n",
        "    while True:\n",
        "        # Get current GPS coordinates\n",
        "        current_gps = get_current_gps_coordinates()\n",
        "\n",
        "        # Calculate distance to target\n",
        "        distance_to_target = calculate_distance(current_gps, target_gps)\n",
        "\n",
        "        if distance_to_target <= tolerance:\n",
        "            print(f\"Arrived at destination: {target_gps}\")\n",
        "            break\n",
        "\n",
        "        # Calculate direction (bearing) to target\n",
        "        bearing_to_target = calculate_bearing(current_gps, target_gps)\n",
        "\n",
        "        # Send commands to the rover to move towards the target (replace with actual movement code)\n",
        "        print(f\"Moving towards target. Bearing: {bearing_to_target}°, Distance: {distance_to_target:.2f} meters\")\n",
        "\n",
        "        time.sleep(1)  # Simulate time delay for movement\n"
      ],
      "metadata": {
        "id": "wQQvvT2VAghw"
      },
      "execution_count": null,
      "outputs": []
    },
    {
      "cell_type": "markdown",
      "source": [
        "Combine arrow detection and navigation"
      ],
      "metadata": {
        "id": "2N6WElwJAmjI"
      }
    },
    {
      "cell_type": "code",
      "source": [
        "# Function to map arrow direction to GPS offsets (e.g., move N, E, S, W based on direction)\n",
        "def calculate_next_gps_from_direction(current_gps, direction):\n",
        "    # Approximate small distance movement (e.g., 10 meters) based on direction\n",
        "    lat, lon = current_gps\n",
        "    distance_m = 10  # Move 10 meters in the direction of the arrow\n",
        "\n",
        "    if direction == \"Right\":\n",
        "        new_lon = lon + (distance_m / 111320)  # Longitude moves more slowly\n",
        "        return (lat, new_lon)\n",
        "    elif direction == \"Left\":\n",
        "        new_lon = lon - (distance_m / 111320)\n",
        "        return (lat, new_lon)\n",
        "    elif direction == \"Up\":\n",
        "        new_lat = lat + (distance_m / 110540)  # Latitude moves faster\n",
        "        return (new_lat, lon)\n",
        "    elif direction == \"Down\":\n",
        "        new_lat = lat - (distance_m / 110540)\n",
        "        return (new_lat, lon)"
      ],
      "metadata": {
        "id": "ZR5_6zdIAjYo"
      },
      "execution_count": null,
      "outputs": []
    },
    {
      "cell_type": "code",
      "source": [
        "def detect_and_navigate(image_path):\n",
        "    # Detect arrow direction from image\n",
        "    direction = process_arrow_image(image_path)\n",
        "\n",
        "    if direction is None:\n",
        "        print(\"No direction found, can't navigate.\")\n",
        "        return\n",
        "\n",
        "    print(f\"Detected direction: {direction}\")\n",
        "\n",
        "    # Get current GPS location of the rover\n",
        "    current_gps = get_current_gps_coordinates()\n",
        "\n",
        "    # Calculate the next GPS waypoint based on arrow direction\n",
        "    next_gps = calculate_next_gps_from_direction(current_gps, direction)\n",
        "\n",
        "    print(f\"Next GPS waypoint: {next_gps}\")\n",
        "\n",
        "    # Move the rover to the next GPS location\n",
        "    move_rover_to_gps(next_gps)"
      ],
      "metadata": {
        "id": "GLhx1UvzApee"
      },
      "execution_count": null,
      "outputs": []
    },
    {
      "cell_type": "code",
      "source": [
        "detect_and_navigate(file_path)"
      ],
      "metadata": {
        "colab": {
          "base_uri": "https://localhost:8080/",
          "height": 1000
        },
        "id": "BeYTxdSBAsO0",
        "outputId": "89f38bb3-1210-4a32-dbe6-f246e0f69c62"
      },
      "execution_count": null,
      "outputs": [
        {
          "output_type": "stream",
          "name": "stdout",
          "text": [
            "Arrow found at: (531, 539), Direction: Right\n"
          ]
        },
        {
          "output_type": "stream",
          "name": "stderr",
          "text": [
            "<ipython-input-60-5abad3179fab>:18: DeprecationWarning: `np.int0` is a deprecated alias for `np.intp`.  (Deprecated NumPy 1.24)\n",
            "  box = np.int0(box)\n"
          ]
        },
        {
          "output_type": "display_data",
          "data": {
            "text/plain": [
              "<PIL.Image.Image image mode=RGB size=1080x1080>"
            ],
            "image/png": "[encoded data removed]",
            "image/jpeg": "[encoded data removed]"
          },
          "metadata": {}
        },
        {
          "output_type": "error",
          "ename": "error",
          "evalue": "OpenCV(4.10.0) /io/opencv/modules/highgui/src/window.cpp:1367: error: (-2:Unspecified error) The function is not implemented. Rebuild the library with Windows, GTK+ 2.x or Cocoa support. If you are on Ubuntu or Debian, install libgtk2.0-dev and pkg-config, then re-run cmake or configure script in function 'cvWaitKey'\n",
          "traceback": [
            "\u001b[0;31m---------------------------------------------------------------------------\u001b[0m",
            "\u001b[0;31merror\u001b[0m                                     Traceback (most recent call last)",
            "\u001b[0;32m<ipython-input-68-0dff78aa7694>\u001b[0m in \u001b[0;36m<cell line: 1>\u001b[0;34m()\u001b[0m\n\u001b[0;32m----> 1\u001b[0;31m \u001b[0mdetect_and_navigate\u001b[0m\u001b[0;34m(\u001b[0m\u001b[0mfile_path\u001b[0m\u001b[0;34m)\u001b[0m\u001b[0;34m\u001b[0m\u001b[0;34m\u001b[0m\u001b[0m\n\u001b[0m",
            "\u001b[0;32m<ipython-input-67-0c94ee637bef>\u001b[0m in \u001b[0;36mdetect_and_navigate\u001b[0;34m(image_path)\u001b[0m\n\u001b[1;32m      1\u001b[0m \u001b[0;32mdef\u001b[0m \u001b[0mdetect_and_navigate\u001b[0m\u001b[0;34m(\u001b[0m\u001b[0mimage_path\u001b[0m\u001b[0;34m)\u001b[0m\u001b[0;34m:\u001b[0m\u001b[0;34m\u001b[0m\u001b[0;34m\u001b[0m\u001b[0m\n\u001b[1;32m      2\u001b[0m     \u001b[0;31m# Detect arrow direction from image\u001b[0m\u001b[0;34m\u001b[0m\u001b[0;34m\u001b[0m\u001b[0m\n\u001b[0;32m----> 3\u001b[0;31m     \u001b[0mdirection\u001b[0m \u001b[0;34m=\u001b[0m \u001b[0mprocess_arrow_image\u001b[0m\u001b[0;34m(\u001b[0m\u001b[0mimage_path\u001b[0m\u001b[0;34m)\u001b[0m\u001b[0;34m\u001b[0m\u001b[0;34m\u001b[0m\u001b[0m\n\u001b[0m\u001b[1;32m      4\u001b[0m \u001b[0;34m\u001b[0m\u001b[0m\n\u001b[1;32m      5\u001b[0m     \u001b[0;32mif\u001b[0m \u001b[0mdirection\u001b[0m \u001b[0;32mis\u001b[0m \u001b[0;32mNone\u001b[0m\u001b[0;34m:\u001b[0m\u001b[0;34m\u001b[0m\u001b[0;34m\u001b[0m\u001b[0m\n",
            "\u001b[0;32m<ipython-input-61-6a7a7483c739>\u001b[0m in \u001b[0;36mprocess_arrow_image\u001b[0;34m(image_path)\u001b[0m\n\u001b[1;32m     27\u001b[0m     \u001b[0;31m# Display the result image\u001b[0m\u001b[0;34m\u001b[0m\u001b[0;34m\u001b[0m\u001b[0m\n\u001b[1;32m     28\u001b[0m     \u001b[0mcv2_imshow\u001b[0m\u001b[0;34m(\u001b[0m\u001b[0mimage\u001b[0m\u001b[0;34m)\u001b[0m\u001b[0;34m\u001b[0m\u001b[0;34m\u001b[0m\u001b[0m\n\u001b[0;32m---> 29\u001b[0;31m     \u001b[0mcv2\u001b[0m\u001b[0;34m.\u001b[0m\u001b[0mwaitKey\u001b[0m\u001b[0;34m(\u001b[0m\u001b[0;36m0\u001b[0m\u001b[0;34m)\u001b[0m\u001b[0;34m\u001b[0m\u001b[0;34m\u001b[0m\u001b[0m\n\u001b[0m\u001b[1;32m     30\u001b[0m     \u001b[0mcv2\u001b[0m\u001b[0;34m.\u001b[0m\u001b[0mdestroyAllWindows\u001b[0m\u001b[0;34m(\u001b[0m\u001b[0;34m)\u001b[0m\u001b[0;34m\u001b[0m\u001b[0;34m\u001b[0m\u001b[0m\n\u001b[1;32m     31\u001b[0m \u001b[0;34m\u001b[0m\u001b[0m\n",
            "\u001b[0;31merror\u001b[0m: OpenCV(4.10.0) /io/opencv/modules/highgui/src/window.cpp:1367: error: (-2:Unspecified error) The function is not implemented. Rebuild the library with Windows, GTK+ 2.x or Cocoa support. If you are on Ubuntu or Debian, install libgtk2.0-dev and pkg-config, then re-run cmake or configure script in function 'cvWaitKey'\n"
          ]
        }
      ]
    },
    {
      "cell_type": "code",
      "source": [],
      "metadata": {
        "id": "MILae8xpDEEi"
      },
      "execution_count": null,
      "outputs": []
    }
  ]
}